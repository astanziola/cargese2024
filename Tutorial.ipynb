{
 "cells": [
  {
   "cell_type": "markdown",
   "id": "76db9660-9d1a-48f7-9f38-e4111787663e",
   "metadata": {},
   "source": [
    "# Tutorial\n",
    "\n",
    "<div style=\"text-align: center; padding: 20px;\">\n",
    "    <p style=\"font-size: 1.5em; font-weight: bold;\">Work in progress</p>\n",
    "</div>"
   ]
  },
  {
   "cell_type": "code",
   "execution_count": null,
   "id": "f88f1155-b9ea-4005-b6bb-9b2e77aba439",
   "metadata": {},
   "outputs": [],
   "source": []
  }
 ],
 "metadata": {
  "kernelspec": {
   "display_name": "Python 3 (ipykernel)",
   "language": "python",
   "name": "python3"
  },
  "language_info": {
   "codemirror_mode": {
    "name": "ipython",
    "version": 3
   },
   "file_extension": ".py",
   "mimetype": "text/x-python",
   "name": "python",
   "nbconvert_exporter": "python",
   "pygments_lexer": "ipython3",
   "version": "3.11.2"
  }
 },
 "nbformat": 4,
 "nbformat_minor": 5
}
